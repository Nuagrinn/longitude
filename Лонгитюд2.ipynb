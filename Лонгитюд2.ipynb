{
 "cells": [
  {
   "cell_type": "code",
   "execution_count": 5,
   "metadata": {},
   "outputs": [],
   "source": [
    "import pandas as pd\n",
    "import numpy as np\n",
    "import seaborn as sns\n",
    "import matplotlib.pyplot as plt"
   ]
  },
  {
   "cell_type": "code",
   "execution_count": 175,
   "metadata": {},
   "outputs": [],
   "source": [
    "data = pd.read_csv(\"data.csv\",engine='python', delimiter=';')"
   ]
  },
  {
   "cell_type": "code",
   "execution_count": 176,
   "metadata": {},
   "outputs": [],
   "source": [
    "data = data.fillna('Пропустили вопрос').replace({'Высшее, бакалавр или специалист':'Высшее',\n",
    "                                              'Высшее, магистр':'Высшее',\n",
    "                                              'Кандидат наук, доктор наук': 'Высшее',\n",
    "                                              'Два и более высших образований':'Высшее',\n",
    "                                              'Среднее профессиональное (например, колледж или техникум)': 'Без высшего',\n",
    "                                              'Неоконченное высшее':'Без высшего',\n",
    "                                              'Начальное профессиональное (например, профессиональное училище)': 'Без высшего',\n",
    "                                              'Среднее (полное) общее или ниже': 'Без высшего',\n",
    "                                              'Затрудняюсь ответить': 'Пропустили вопрос',\n",
    "                                                'Нет, но есть детская комната, которую он делит с братом/сестрой (братьями, сестрами)':'Нет, делит с братом/сестрой',\n",
    "                                                'Нет, ребенок живет в одной комнате со взрослыми родственниками': 'Нет, живет со взрослыми'\n",
    "                                                })"
   ]
  },
  {
   "cell_type": "code",
   "execution_count": 177,
   "metadata": {},
   "outputs": [
    {
     "data": {
      "text/html": [
       "<div>\n",
       "<style scoped>\n",
       "    .dataframe tbody tr th:only-of-type {\n",
       "        vertical-align: middle;\n",
       "    }\n",
       "\n",
       "    .dataframe tbody tr th {\n",
       "        vertical-align: top;\n",
       "    }\n",
       "\n",
       "    .dataframe thead th {\n",
       "        text-align: right;\n",
       "    }\n",
       "</style>\n",
       "<table border=\"1\" class=\"dataframe\">\n",
       "  <thead>\n",
       "    <tr style=\"text-align: right;\">\n",
       "      <th></th>\n",
       "      <th>Unnamed: 0</th>\n",
       "      <th>Response.ID</th>\n",
       "      <th>Time.Started</th>\n",
       "      <th>Date.Submitted</th>\n",
       "      <th>Status</th>\n",
       "      <th>IP.Address</th>\n",
       "      <th>Longitude</th>\n",
       "      <th>Latitude</th>\n",
       "      <th>Country</th>\n",
       "      <th>City</th>\n",
       "      <th>...</th>\n",
       "      <th>q85</th>\n",
       "      <th>q86mom_edu</th>\n",
       "      <th>q86dad_edu</th>\n",
       "      <th>q87room</th>\n",
       "      <th>q88auto</th>\n",
       "      <th>q89income</th>\n",
       "      <th>q90month</th>\n",
       "      <th>q90name</th>\n",
       "      <th>q90letter</th>\n",
       "      <th>na_count</th>\n",
       "    </tr>\n",
       "  </thead>\n",
       "  <tbody>\n",
       "    <tr>\n",
       "      <th>0</th>\n",
       "      <td>1</td>\n",
       "      <td>30</td>\n",
       "      <td>30.04.2020 17:29</td>\n",
       "      <td>30.04.2020 17:32</td>\n",
       "      <td>Partial</td>\n",
       "      <td>176.59.103.99</td>\n",
       "      <td>44.0019</td>\n",
       "      <td>56.3283</td>\n",
       "      <td>Russian Federation</td>\n",
       "      <td>Nizhniy Novgorod</td>\n",
       "      <td>...</td>\n",
       "      <td>Пропустили вопрос</td>\n",
       "      <td>Пропустили вопрос</td>\n",
       "      <td>Пропустили вопрос</td>\n",
       "      <td>Пропустили вопрос</td>\n",
       "      <td>Пропустили вопрос</td>\n",
       "      <td>Пропустили вопрос</td>\n",
       "      <td>Пропустили вопрос</td>\n",
       "      <td>Пропустили вопрос</td>\n",
       "      <td>Пропустили вопрос</td>\n",
       "      <td>306</td>\n",
       "    </tr>\n",
       "    <tr>\n",
       "      <th>1</th>\n",
       "      <td>6</td>\n",
       "      <td>41</td>\n",
       "      <td>06.05.2020 15:37</td>\n",
       "      <td>06.05.2020 15:57</td>\n",
       "      <td>Partial</td>\n",
       "      <td>194.58.180.98</td>\n",
       "      <td>40.9344</td>\n",
       "      <td>57.7708</td>\n",
       "      <td>Russian Federation</td>\n",
       "      <td>Kostroma</td>\n",
       "      <td>...</td>\n",
       "      <td>Пропустили вопрос</td>\n",
       "      <td>Пропустили вопрос</td>\n",
       "      <td>Пропустили вопрос</td>\n",
       "      <td>Пропустили вопрос</td>\n",
       "      <td>Пропустили вопрос</td>\n",
       "      <td>Пропустили вопрос</td>\n",
       "      <td>Пропустили вопрос</td>\n",
       "      <td>Пропустили вопрос</td>\n",
       "      <td>Пропустили вопрос</td>\n",
       "      <td>248</td>\n",
       "    </tr>\n",
       "    <tr>\n",
       "      <th>2</th>\n",
       "      <td>8</td>\n",
       "      <td>43</td>\n",
       "      <td>06.05.2020 15:46</td>\n",
       "      <td>06.05.2020 16:41</td>\n",
       "      <td>Complete</td>\n",
       "      <td>92.246.164.168</td>\n",
       "      <td>44.9953</td>\n",
       "      <td>53.1947</td>\n",
       "      <td>Russian Federation</td>\n",
       "      <td>Penza</td>\n",
       "      <td>...</td>\n",
       "      <td>Пропустили вопрос</td>\n",
       "      <td>Высшее</td>\n",
       "      <td>Без высшего</td>\n",
       "      <td>Да, есть своя комната</td>\n",
       "      <td>Да</td>\n",
       "      <td>На еду и одежду хватает, но покупка телевизора...</td>\n",
       "      <td>10</td>\n",
       "      <td>евг</td>\n",
       "      <td>П</td>\n",
       "      <td>159</td>\n",
       "    </tr>\n",
       "    <tr>\n",
       "      <th>3</th>\n",
       "      <td>10</td>\n",
       "      <td>45</td>\n",
       "      <td>06.05.2020 15:47</td>\n",
       "      <td>06.05.2020 16:09</td>\n",
       "      <td>Complete</td>\n",
       "      <td>109.252.122.148</td>\n",
       "      <td>37.6172</td>\n",
       "      <td>55.7527</td>\n",
       "      <td>Russian Federation</td>\n",
       "      <td>Moscow</td>\n",
       "      <td>...</td>\n",
       "      <td>Пропустили вопрос</td>\n",
       "      <td>Высшее</td>\n",
       "      <td>Высшее</td>\n",
       "      <td>Да, есть своя комната</td>\n",
       "      <td>Да</td>\n",
       "      <td>На еду и одежду хватает, но покупка телевизора...</td>\n",
       "      <td>10</td>\n",
       "      <td>соф</td>\n",
       "      <td>м</td>\n",
       "      <td>166</td>\n",
       "    </tr>\n",
       "    <tr>\n",
       "      <th>4</th>\n",
       "      <td>12</td>\n",
       "      <td>47</td>\n",
       "      <td>06.05.2020 16:17</td>\n",
       "      <td>06.05.2020 16:40</td>\n",
       "      <td>Complete</td>\n",
       "      <td>213.87.156.115</td>\n",
       "      <td>37.6172</td>\n",
       "      <td>55.7527</td>\n",
       "      <td>Russian Federation</td>\n",
       "      <td>Moscow</td>\n",
       "      <td>...</td>\n",
       "      <td>Пропустили вопрос</td>\n",
       "      <td>Высшее</td>\n",
       "      <td>Высшее</td>\n",
       "      <td>Да, есть своя комната</td>\n",
       "      <td>Да</td>\n",
       "      <td>На еду и одежду хватает, но покупка телевизора...</td>\n",
       "      <td>5</td>\n",
       "      <td>юли</td>\n",
       "      <td>в</td>\n",
       "      <td>163</td>\n",
       "    </tr>\n",
       "  </tbody>\n",
       "</table>\n",
       "<p>5 rows × 358 columns</p>\n",
       "</div>"
      ],
      "text/plain": [
       "   Unnamed: 0  Response.ID      Time.Started    Date.Submitted    Status  \\\n",
       "0           1           30  30.04.2020 17:29  30.04.2020 17:32   Partial   \n",
       "1           6           41  06.05.2020 15:37  06.05.2020 15:57   Partial   \n",
       "2           8           43  06.05.2020 15:46  06.05.2020 16:41  Complete   \n",
       "3          10           45  06.05.2020 15:47  06.05.2020 16:09  Complete   \n",
       "4          12           47  06.05.2020 16:17  06.05.2020 16:40  Complete   \n",
       "\n",
       "        IP.Address Longitude Latitude             Country              City  \\\n",
       "0    176.59.103.99   44.0019  56.3283  Russian Federation  Nizhniy Novgorod   \n",
       "1    194.58.180.98   40.9344  57.7708  Russian Federation          Kostroma   \n",
       "2   92.246.164.168   44.9953  53.1947  Russian Federation             Penza   \n",
       "3  109.252.122.148   37.6172  55.7527  Russian Federation            Moscow   \n",
       "4   213.87.156.115   37.6172  55.7527  Russian Federation            Moscow   \n",
       "\n",
       "   ...                q85         q86mom_edu         q86dad_edu  \\\n",
       "0  ...  Пропустили вопрос  Пропустили вопрос  Пропустили вопрос   \n",
       "1  ...  Пропустили вопрос  Пропустили вопрос  Пропустили вопрос   \n",
       "2  ...  Пропустили вопрос             Высшее        Без высшего   \n",
       "3  ...  Пропустили вопрос             Высшее             Высшее   \n",
       "4  ...  Пропустили вопрос             Высшее             Высшее   \n",
       "\n",
       "                 q87room            q88auto  \\\n",
       "0      Пропустили вопрос  Пропустили вопрос   \n",
       "1      Пропустили вопрос  Пропустили вопрос   \n",
       "2  Да, есть своя комната                 Да   \n",
       "3  Да, есть своя комната                 Да   \n",
       "4  Да, есть своя комната                 Да   \n",
       "\n",
       "                                           q89income           q90month  \\\n",
       "0                                  Пропустили вопрос  Пропустили вопрос   \n",
       "1                                  Пропустили вопрос  Пропустили вопрос   \n",
       "2  На еду и одежду хватает, но покупка телевизора...                 10   \n",
       "3  На еду и одежду хватает, но покупка телевизора...                 10   \n",
       "4  На еду и одежду хватает, но покупка телевизора...                  5   \n",
       "\n",
       "             q90name          q90letter na_count  \n",
       "0  Пропустили вопрос  Пропустили вопрос      306  \n",
       "1  Пропустили вопрос  Пропустили вопрос      248  \n",
       "2                евг                  П      159  \n",
       "3                соф                  м      166  \n",
       "4                юли                  в      163  \n",
       "\n",
       "[5 rows x 358 columns]"
      ]
     },
     "execution_count": 177,
     "metadata": {},
     "output_type": "execute_result"
    }
   ],
   "source": [
    "data.head()"
   ]
  },
  {
   "cell_type": "code",
   "execution_count": 178,
   "metadata": {},
   "outputs": [],
   "source": [
    "def classifier(row):\n",
    "    if row['q86mom_edu'] == 'Высшее' or row['q86dad_edu'] == 'Высшее':\n",
    "        return 'Высшее хотя бы у одного родителя'\n",
    "    elif row['q86mom_edu'] == 'Пропустили вопрос' and row['q86dad_edu'] == 'Пропустили вопрос':\n",
    "        return 'Пропустили вопрос'\n",
    "    elif (row['q86mom_edu'] == 'Без высшего' and row['q86dad_edu'] == 'Пропустили вопрос') or (row['q86dad_edu'] == 'Без высшего' and row['q86mom_edu'] == 'Пропустили вопрос'):\n",
    "        return 'Один без высшего, а один пропустил'\n",
    "    elif row['q86mom_edu'] == 'Без высшего' and row['q86dad_edu'] == 'Без высшего':\n",
    "        return 'Оба без высшего'"
   ]
  },
  {
   "cell_type": "code",
   "execution_count": 179,
   "metadata": {},
   "outputs": [
    {
     "data": {
      "text/html": [
       "<div>\n",
       "<style scoped>\n",
       "    .dataframe tbody tr th:only-of-type {\n",
       "        vertical-align: middle;\n",
       "    }\n",
       "\n",
       "    .dataframe tbody tr th {\n",
       "        vertical-align: top;\n",
       "    }\n",
       "\n",
       "    .dataframe thead th {\n",
       "        text-align: right;\n",
       "    }\n",
       "</style>\n",
       "<table border=\"1\" class=\"dataframe\">\n",
       "  <thead>\n",
       "    <tr style=\"text-align: right;\">\n",
       "      <th></th>\n",
       "      <th>Уровень образования родителей</th>\n",
       "    </tr>\n",
       "  </thead>\n",
       "  <tbody>\n",
       "    <tr>\n",
       "      <th>Высшее хотя бы у одного родителя</th>\n",
       "      <td>0.493779</td>\n",
       "    </tr>\n",
       "    <tr>\n",
       "      <th>Пропустили вопрос</th>\n",
       "      <td>0.446734</td>\n",
       "    </tr>\n",
       "    <tr>\n",
       "      <th>Оба без высшего</th>\n",
       "      <td>0.048600</td>\n",
       "    </tr>\n",
       "    <tr>\n",
       "      <th>Один без высшего, а один пропустил</th>\n",
       "      <td>0.010886</td>\n",
       "    </tr>\n",
       "  </tbody>\n",
       "</table>\n",
       "</div>"
      ],
      "text/plain": [
       "                                    Уровень образования родителей\n",
       "Высшее хотя бы у одного родителя                         0.493779\n",
       "Пропустили вопрос                                        0.446734\n",
       "Оба без высшего                                          0.048600\n",
       "Один без высшего, а один пропустил                       0.010886"
      ]
     },
     "execution_count": 179,
     "metadata": {},
     "output_type": "execute_result"
    }
   ],
   "source": [
    "data['parents_edu'] = data.apply(classifier, axis=1)\n",
    "edu_dist = {'Уровень образования родителей': data['parents_edu'].value_counts(normalize=True)}\n",
    "edu_dist_df = pd.DataFrame(edu_dist)\n",
    "edu_dist_df"
   ]
  },
  {
   "cell_type": "code",
   "execution_count": 180,
   "metadata": {},
   "outputs": [
    {
     "data": {
      "text/plain": [
       "Высшее хотя бы у одного родителя      1270\n",
       "Пропустили вопрос                     1149\n",
       "Оба без высшего                        125\n",
       "Один без высшего, а один пропустил      28\n",
       "Name: parents_edu, dtype: int64"
      ]
     },
     "execution_count": 180,
     "metadata": {},
     "output_type": "execute_result"
    }
   ],
   "source": [
    "data['parents_edu'].value_counts()"
   ]
  },
  {
   "cell_type": "code",
   "execution_count": 181,
   "metadata": {},
   "outputs": [
    {
     "data": {
      "image/png": "[encoded data removed]",
      "text/plain": [
       "<Figure size 576x432 with 1 Axes>"
      ]
     },
     "metadata": {
      "needs_background": "light"
     },
     "output_type": "display_data"
    }
   ],
   "source": [
    "edu_dist_df.plot(kind='bar').set_title('Уровень образования родителей')\n",
    "plt.xticks(rotation=45)\n",
    "sns.set_palette('RdBu_r')"
   ]
  },
  {
   "cell_type": "code",
   "execution_count": 182,
   "metadata": {},
   "outputs": [
    {
     "data": {
      "text/plain": [
       "Text(0, 0.5, 'Процентное соотношение')"
      ]
     },
     "execution_count": 182,
     "metadata": {},
     "output_type": "execute_result"
    },
    {
     "data": {
      "image/png": "[encoded data removed]",
      "text/plain": [
       "<Figure size 576x432 with 1 Axes>"
      ]
     },
     "metadata": {
      "needs_background": "light"
     },
     "output_type": "display_data"
    }
   ],
   "source": [
    "x, y, hue = 'parents_edu', 'prop', 'q87room'\n",
    "\n",
    "\n",
    "prop_df = (data['parents_edu']\n",
    "           .groupby(data['q87room'])\n",
    "           .value_counts(normalize=True)\n",
    "           .rename(y)\n",
    "           .reset_index())\n",
    "\n",
    "sns.barplot(x='parents_edu',y=y,hue='q87room', data=prop_df).legend(title='Комната ребенка')\n",
    "plt.rcParams['figure.figsize'] = [8, 6]\n",
    "sns.set_palette('Blues')\n",
    "plt.xticks(rotation=45)\n",
    "plt.xlabel('Образование родителей', fontsize=14)\n",
    "plt.ylabel('Процентное соотношение', fontsize=14)\n"
   ]
  },
  {
   "cell_type": "code",
   "execution_count": 183,
   "metadata": {},
   "outputs": [],
   "source": [
    "data_mom_edu = data.loc[data['q86mom_edu'] != 'Пропустили вопрос']"
   ]
  },
  {
   "cell_type": "code",
   "execution_count": 185,
   "metadata": {},
   "outputs": [
    {
     "data": {
      "text/plain": [
       "(1416, 359)"
      ]
     },
     "execution_count": 185,
     "metadata": {},
     "output_type": "execute_result"
    }
   ],
   "source": [
    "data_mom_edu.shape"
   ]
  },
  {
   "cell_type": "code",
   "execution_count": 186,
   "metadata": {},
   "outputs": [],
   "source": [
    "data_parents_edu = data.loc[data['parents_edu'] != 'Пропустили вопрос']"
   ]
  },
  {
   "cell_type": "code",
   "execution_count": 187,
   "metadata": {},
   "outputs": [
    {
     "data": {
      "text/plain": [
       "(1423, 359)"
      ]
     },
     "execution_count": 187,
     "metadata": {},
     "output_type": "execute_result"
    }
   ],
   "source": [
    "data_parents_edu.shape"
   ]
  },
  {
   "cell_type": "code",
   "execution_count": 188,
   "metadata": {},
   "outputs": [
    {
     "data": {
      "text/plain": [
       "Высшее хотя бы у одного родителя      1270\n",
       "Оба без высшего                        125\n",
       "Один без высшего, а один пропустил      28\n",
       "Name: parents_edu, dtype: int64"
      ]
     },
     "execution_count": 188,
     "metadata": {},
     "output_type": "execute_result"
    }
   ],
   "source": [
    "data_parents_edu['parents_edu'].value_counts()"
   ]
  },
  {
   "cell_type": "code",
   "execution_count": 189,
   "metadata": {},
   "outputs": [
    {
     "data": {
      "text/plain": [
       "Высшее хотя бы у одного родителя      1270\n",
       "Пропустили вопрос                     1149\n",
       "Оба без высшего                        125\n",
       "Один без высшего, а один пропустил      28\n",
       "Name: parents_edu, dtype: int64"
      ]
     },
     "execution_count": 189,
     "metadata": {},
     "output_type": "execute_result"
    }
   ],
   "source": [
    "data['parents_edu'].value_counts()"
   ]
  },
  {
   "cell_type": "code",
   "execution_count": 190,
   "metadata": {},
   "outputs": [
    {
     "data": {
      "text/plain": [
       "Высшее         1187\n",
       "Без высшего     229\n",
       "Name: q86mom_edu, dtype: int64"
      ]
     },
     "execution_count": 190,
     "metadata": {},
     "output_type": "execute_result"
    }
   ],
   "source": [
    "data_mom_edu['q86mom_edu'].value_counts()"
   ]
  },
  {
   "cell_type": "code",
   "execution_count": 193,
   "metadata": {},
   "outputs": [
    {
     "data": {
      "text/html": [
       "<div>\n",
       "<style scoped>\n",
       "    .dataframe tbody tr th:only-of-type {\n",
       "        vertical-align: middle;\n",
       "    }\n",
       "\n",
       "    .dataframe tbody tr th {\n",
       "        vertical-align: top;\n",
       "    }\n",
       "\n",
       "    .dataframe thead th {\n",
       "        text-align: right;\n",
       "    }\n",
       "</style>\n",
       "<table border=\"1\" class=\"dataframe\">\n",
       "  <thead>\n",
       "    <tr style=\"text-align: right;\">\n",
       "      <th></th>\n",
       "      <th>q86mom_edu</th>\n",
       "      <th>q14</th>\n",
       "      <th>prop</th>\n",
       "    </tr>\n",
       "  </thead>\n",
       "  <tbody>\n",
       "    <tr>\n",
       "      <th>0</th>\n",
       "      <td>Без высшего</td>\n",
       "      <td>3 и более часов в день</td>\n",
       "      <td>31.004367</td>\n",
       "    </tr>\n",
       "    <tr>\n",
       "      <th>1</th>\n",
       "      <td>Без высшего</td>\n",
       "      <td>Менее 1 часа в день</td>\n",
       "      <td>24.454148</td>\n",
       "    </tr>\n",
       "    <tr>\n",
       "      <th>2</th>\n",
       "      <td>Без высшего</td>\n",
       "      <td>Вообще не трачу</td>\n",
       "      <td>23.580786</td>\n",
       "    </tr>\n",
       "    <tr>\n",
       "      <th>3</th>\n",
       "      <td>Без высшего</td>\n",
       "      <td>1-2 часа каждый день</td>\n",
       "      <td>20.960699</td>\n",
       "    </tr>\n",
       "    <tr>\n",
       "      <th>4</th>\n",
       "      <td>Высшее</td>\n",
       "      <td>3 и более часов в день</td>\n",
       "      <td>27.379949</td>\n",
       "    </tr>\n",
       "    <tr>\n",
       "      <th>5</th>\n",
       "      <td>Высшее</td>\n",
       "      <td>Вообще не трачу</td>\n",
       "      <td>26.705981</td>\n",
       "    </tr>\n",
       "    <tr>\n",
       "      <th>6</th>\n",
       "      <td>Высшее</td>\n",
       "      <td>Менее 1 часа в день</td>\n",
       "      <td>25.610783</td>\n",
       "    </tr>\n",
       "    <tr>\n",
       "      <th>7</th>\n",
       "      <td>Высшее</td>\n",
       "      <td>1-2 часа каждый день</td>\n",
       "      <td>20.303286</td>\n",
       "    </tr>\n",
       "  </tbody>\n",
       "</table>\n",
       "</div>"
      ],
      "text/plain": [
       "    q86mom_edu                     q14       prop\n",
       "0  Без высшего  3 и более часов в день  31.004367\n",
       "1  Без высшего     Менее 1 часа в день  24.454148\n",
       "2  Без высшего         Вообще не трачу  23.580786\n",
       "3  Без высшего    1-2 часа каждый день  20.960699\n",
       "4       Высшее  3 и более часов в день  27.379949\n",
       "5       Высшее         Вообще не трачу  26.705981\n",
       "6       Высшее     Менее 1 часа в день  25.610783\n",
       "7       Высшее    1-2 часа каждый день  20.303286"
      ]
     },
     "execution_count": 193,
     "metadata": {},
     "output_type": "execute_result"
    }
   ],
   "source": [
    "prop_df"
   ]
  },
  {
   "cell_type": "code",
   "execution_count": 194,
   "metadata": {},
   "outputs": [
    {
     "data": {
      "text/plain": [
       "Text(0, 0.5, 'Процентное соотношение')"
      ]
     },
     "execution_count": 194,
     "metadata": {},
     "output_type": "execute_result"
    },
    {
     "data": {
      "image/png": "[encoded data removed]",
      "text/plain": [
       "<Figure size 576x432 with 1 Axes>"
      ]
     },
     "metadata": {
      "needs_background": "light"
     },
     "output_type": "display_data"
    }
   ],
   "source": [
    "x, y, hue = 'q14', 'prop', 'q86mom_edu'\n",
    "\n",
    "\n",
    "prop_df = (data_mom_edu['q14']\n",
    "           .groupby(data_mom_edu['q86mom_edu'])\n",
    "           .value_counts(normalize=True)\n",
    "           .rename(y)\n",
    "           .reset_index())\n",
    "prop_df['prop'] = prop_df['prop']*100\n",
    "\n",
    "sns.barplot(x='q14',y=y,hue='q86mom_edu', data=prop_df,\n",
    "            hue_order=['Высшее', 'Без высшего'],\n",
    "            order=['3 и более часов в день',\n",
    "                   '1-2 часа каждый день',\n",
    "                   'Менее 1 часа в день',\n",
    "                    'Вообще не трачу']).legend(title='Образование мамы')\n",
    "plt.rcParams['figure.figsize'] = [8, 6]\n",
    "sns.set_palette(flatui)\n",
    "plt.xticks(rotation=45)\n",
    "plt.xlabel('Время, уделяемое родителями ', fontsize=14)\n",
    "plt.ylabel('Процентное соотношение', fontsize=14)"
   ]
  },
  {
   "cell_type": "code",
   "execution_count": 195,
   "metadata": {},
   "outputs": [
    {
     "data": {
      "text/plain": [
       "Text(0, 0.5, 'Процентное соотношение')"
      ]
     },
     "execution_count": 195,
     "metadata": {},
     "output_type": "execute_result"
    },
    {
     "data": {
      "image/png": "[encoded data removed]",
      "text/plain": [
       "<Figure size 576x432 with 1 Axes>"
      ]
     },
     "metadata": {
      "needs_background": "light"
     },
     "output_type": "display_data"
    }
   ],
   "source": [
    "x, y, hue = 'q87room', 'prop', 'q86mom_edu'\n",
    "\n",
    "\n",
    "prop_df = (data_mom_edu['q87room']\n",
    "           .groupby(data_mom_edu['q86mom_edu'])\n",
    "           .value_counts(normalize=True)\n",
    "           .rename(y)\n",
    "           .reset_index())\n",
    "prop_df['prop'] = prop_df['prop']*100\n",
    "\n",
    "sns.barplot(x='q87room',y=y,hue='q86mom_edu', data=prop_df,\n",
    "            hue_order=['Высшее', 'Без высшего']).legend(title='Образование мамы')\n",
    "plt.rcParams['figure.figsize'] = [8, 6]\n",
    "sns.set_palette(flatui)\n",
    "plt.xticks(rotation=45)\n",
    "plt.xlabel('Личная комната ребенка', fontsize=14)\n",
    "plt.ylabel('Процентное соотношение', fontsize=14)"
   ]
  },
  {
   "cell_type": "code",
   "execution_count": null,
   "metadata": {},
   "outputs": [],
   "source": []
  }
 ],
 "metadata": {
  "kernelspec": {
   "display_name": "Python 3.7.6 64-bit ('base': conda)",
   "language": "python",
   "name": "python37664bitbaseconda5ef46e6ad9fb4c72a348c0f37847eeb9"
  },
  "language_info": {
   "codemirror_mode": {
    "name": "ipython",
    "version": 3
   },
   "file_extension": ".py",
   "mimetype": "text/x-python",
   "name": "python",
   "nbconvert_exporter": "python",
   "pygments_lexer": "ipython3",
   "version": "3.7.6"
  }
 },
 "nbformat": 4,
 "nbformat_minor": 4
}
